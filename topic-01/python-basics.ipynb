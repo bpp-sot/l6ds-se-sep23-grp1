{
 "cells": [
  {
   "cell_type": "code",
   "execution_count": null,
   "metadata": {},
   "outputs": [],
   "source": []
  },
  {
   "cell_type": "code",
   "execution_count": 8,
   "metadata": {},
   "outputs": [
    {
     "name": "stdout",
     "output_type": "stream",
     "text": [
      "<class 'int'>\n",
      "<class 'float'>\n",
      "<class 'str'>\n",
      "<class 'bool'>\n"
     ]
    }
   ],
   "source": [
    "age = 25\n",
    "height = 1.75\n",
    "name = \"Alice\"\n",
    "is_student = True\n",
    "\n",
    "print(type(age))       # Output: <class 'int'>\n",
    "print(type(height))    # Output: <class 'float'>\n",
    "print(type(name))      # Output: <class 'str'>\n",
    "print(type(is_student)) # Output: <class 'bool'>"
   ]
  },
  {
   "cell_type": "markdown",
   "metadata": {},
   "source": [
    "# Arithmetic operations: +, -, *, /, //, %, **\n",
    "Python supports various arithmetic operations:\n",
    "\n",
    "1. Addition (+): `5 + 3` equals 8\n",
    "2. Subtraction (-): `5 - 3` equals 2\n",
    "3. Multiplication (*): `5 * 3` equals 15\n",
    "4. Division (/): `5 / 3` equals 1.6666666666666667\n",
    "5. Floor Division (//): `5 // 3` equals 1 (rounds down to nearest integer)\n",
    "6. Modulus (%): `5 % 3` equals 2 (remainder of division)\n",
    "7. Exponentiation (**): `5 ** 3` equals 125 (5 to the power of 3)\n",
    "\n",
    "Example:"
   ]
  },
  {
   "cell_type": "markdown",
   "metadata": {},
   "source": [
    "# Python Basics\n",
    "\n",
    "Variables in Python are used to store data in memory. They act as containers for values that can be changed throughout your program.\n",
    "\n",
    "To create a variable in Python:\n",
    "\n",
    "1. Choose a name for your variable.\n",
    "2. Use the assignment operator (=) to give it a value.\n",
    "\n",
    "Example:"
   ]
  },
  {
   "cell_type": "markdown",
   "metadata": {},
   "source": [
    "Python variable naming rules:\n",
    "- Must start with a letter or underscore\n",
    "- Can contain letters, numbers, and underscores\n",
    "- Are case-sensitive (age and Age are different variables)\n",
    "- Cannot be Python keywords (like 'if', 'for', 'while', etc.)"
   ]
  },
  {
   "cell_type": "markdown",
   "metadata": {},
   "source": [
    "Python has several built-in data types. Here are the most common ones:\n",
    "\n",
    "1. Integer (int): Whole numbers, positive or negative.\n",
    "   ```python\n",
    "   age = 25\n",
    "   year = 2023\n",
    "   ```\n",
    "\n",
    "2. Float: Decimal numbers.\n",
    "   ```python\n",
    "   height = 1.75\n",
    "   pi = 3.14159\n",
    "   ```\n",
    "\n",
    "3. String (str): Text, enclosed in single or double quotes.\n",
    "   ```python\n",
    "   name = \"Alice\"\n",
    "   message = 'Hello, World!'\n",
    "   ```\n",
    "\n",
    "4. Boolean (bool): True or False values.\n",
    "   ```python\n",
    "   is_student = True\n",
    "   has_license = False\n",
    "   ```\n"
   ]
  },
  {
   "cell_type": "code",
   "execution_count": 9,
   "metadata": {},
   "outputs": [
    {
     "name": "stdout",
     "output_type": "stream",
     "text": [
      "<class 'int'>\n",
      "<class 'float'>\n",
      "<class 'str'>\n",
      "<class 'bool'>\n"
     ]
    }
   ],
   "source": [
    "age = 25\n",
    "height = 1.75\n",
    "name = \"Alice\"\n",
    "is_student = True\n",
    "\n",
    "print(type(age))       # Output: <class 'int'>\n",
    "print(type(height))    # Output: <class 'float'>\n",
    "print(type(name))      # Output: <class 'str'>\n",
    "print(type(is_student)) # Output: <class 'bool'>"
   ]
  },
  {
   "cell_type": "markdown",
   "metadata": {},
   "source": [
    "# Arithmetic operations: +, -, *, /, //, %, **\n",
    "Python supports various arithmetic operations:\n",
    "\n",
    "1. Addition (+): `5 + 3` equals 8\n",
    "2. Subtraction (-): `5 - 3` equals 2\n",
    "3. Multiplication (*): `5 * 3` equals 15\n",
    "4. Division (/): `5 / 3` equals 1.6666666666666667\n",
    "5. Floor Division (//): `5 // 3` equals 1 (rounds down to nearest integer)\n",
    "6. Modulus (%): `5 % 3` equals 2 (remainder of division)\n",
    "7. Exponentiation (**): `5 ** 3` equals 125 (5 to the power of 3)\n",
    "\n",
    "Example:"
   ]
  },
  {
   "cell_type": "code",
   "execution_count": 10,
   "metadata": {},
   "outputs": [
    {
     "name": "stdout",
     "output_type": "stream",
     "text": [
      "13\n",
      "7\n",
      "30\n",
      "3.3333333333333335\n",
      "3\n",
      "1\n",
      "1000\n"
     ]
    }
   ],
   "source": [
    "x = 10\n",
    "y = 3\n",
    "\n",
    "print(x + y)  # Output: 13\n",
    "print(x - y)  # Output: 7\n",
    "print(x * y)  # Output: 30\n",
    "print(x / y)  # Output: 3.3333333333333335\n",
    "print(x // y) # Output: 3\n",
    "print(x % y)  # Output: 1\n",
    "print(x ** y) # Output: 1000"
   ]
  },
  {
   "cell_type": "markdown",
   "metadata": {},
   "source": [
    "# Comparison operations: ==, !=, <, >, <=, >=\n",
    "Comparison operations return boolean values (True or False):\n",
    "\n",
    "1. Equal to (==): `5 == 5` is True\n",
    "2. Not equal to (!=): `5 != 3` is True\n",
    "3. Less than (<): `5 < 3` is False\n",
    "4. Greater than (>): `5 > 3` is True\n",
    "5. Less than or equal to (<=): `5 <= 5` is True\n",
    "6. Greater than or equal to (>=): `5 >= 3` is True\n",
    "\n",
    "Example:"
   ]
  },
  {
   "cell_type": "code",
   "execution_count": 11,
   "metadata": {},
   "outputs": [
    {
     "name": "stdout",
     "output_type": "stream",
     "text": [
      "False\n",
      "True\n",
      "False\n",
      "True\n",
      "False\n",
      "True\n"
     ]
    }
   ],
   "source": [
    "x = 10\n",
    "y = 3\n",
    "\n",
    "print(x == y)  # Output: False\n",
    "print(x != y)  # Output: True\n",
    "print(x < y)   # Output: False\n",
    "print(x > y)   # Output: True\n",
    "print(x <= y)  # Output: False\n",
    "print(x >= y)  # Output: True"
   ]
  },
  {
   "cell_type": "markdown",
   "metadata": {},
   "source": [
    "# Logical operations: and, or, not\n",
    "Logical operations are used to combine boolean values:\n",
    "\n",
    "1. and: True if both operands are True\n",
    "2. or: True if at least one operand is True\n",
    "3. not: Inverts the boolean value\n",
    "\n",
    "Example:"
   ]
  },
  {
   "cell_type": "code",
   "execution_count": 12,
   "metadata": {},
   "outputs": [
    {
     "name": "stdout",
     "output_type": "stream",
     "text": [
      "False\n",
      "True\n",
      "False\n"
     ]
    }
   ],
   "source": [
    "x = True\n",
    "y = False\n",
    "\n",
    "print(x and y)  # Output: False\n",
    "print(x or y)   # Output: True\n",
    "print(not x)    # Output: False"
   ]
  },
  {
   "cell_type": "markdown",
   "metadata": {},
   "source": [
    "# 3.3 Strings and String Manipulation\n",
    "\n",
    "### Creating strings with single and double quotes\n",
    "Strings in Python can be created using either single or double quotes:"
   ]
  },
  {
   "cell_type": "code",
   "execution_count": 13,
   "metadata": {},
   "outputs": [],
   "source": [
    "single_quoted = 'Hello, World!'\n",
    "double_quoted = \"Python is fun!\""
   ]
  },
  {
   "cell_type": "markdown",
   "metadata": {},
   "source": [
    "\n",
    "You can use single quotes inside double-quoted strings and vice versa:\n",
    "\n"
   ]
  },
  {
   "cell_type": "code",
   "execution_count": 14,
   "metadata": {},
   "outputs": [],
   "source": [
    "mixed = \"It's a beautiful day\"\n",
    "also_mixed = 'She said, \"Hello!\"'\n"
   ]
  },
  {
   "cell_type": "markdown",
   "metadata": {},
   "source": [
    "Strings can be combined (concatenated) using the + operator:\n"
   ]
  },
  {
   "cell_type": "code",
   "execution_count": 27,
   "metadata": {},
   "outputs": [
    {
     "name": "stdout",
     "output_type": "stream",
     "text": [
      "John Doe\n"
     ]
    }
   ],
   "source": [
    "first_name = \"John\"\n",
    "last_name = \"Doe\"\n",
    "full_name = first_name + \" \" + last_name\n",
    "\n",
    "print(full_name)  # Output: John Doe\n"
   ]
  },
  {
   "cell_type": "markdown",
   "metadata": {},
   "source": [
    "Strings can be repeated using the * operator:\n"
   ]
  },
  {
   "cell_type": "code",
   "execution_count": 28,
   "metadata": {},
   "outputs": [
    {
     "name": "stdout",
     "output_type": "stream",
     "text": [
      "Hip Hip Hooray!\n"
     ]
    }
   ],
   "source": [
    "cheer = \"Hip \" * 2 + \"Hooray!\"\n",
    "\n",
    "print(cheer)  # Output: Hip Hip Hooray!"
   ]
  },
  {
   "cell_type": "markdown",
   "metadata": {},
   "source": [
    "# String indexing and slicing\n",
    "Characters in a string can be accessed using indexing (starting from 0):\n"
   ]
  },
  {
   "cell_type": "code",
   "execution_count": 29,
   "metadata": {},
   "outputs": [
    {
     "name": "stdout",
     "output_type": "stream",
     "text": [
      "o\n",
      "W\n"
     ]
    }
   ],
   "source": [
    "message = \"Hello, World!\"\n",
    "\n",
    "print(message[0])   # Output: H\n",
    "print(message[-1])  # Output: ! (negative indexing starts from the end)"
   ]
  },
  {
   "cell_type": "markdown",
   "metadata": {},
   "source": [
    "Slicing allows you to extract a substring:\n"
   ]
  },
  {
   "cell_type": "code",
   "execution_count": 18,
   "metadata": {},
   "outputs": [
    {
     "name": "stdout",
     "output_type": "stream",
     "text": [
      "Hello\n",
      "World!\n",
      "Hello\n"
     ]
    }
   ],
   "source": [
    "print(message[0:5])  # Output: Hello\n",
    "print(message[7:])   # Output: World!\n",
    "print(message[:5])   # Output: Hello"
   ]
  },
  {
   "cell_type": "markdown",
   "metadata": {},
   "source": [
    "# Useful string methods: upper(), lower(), strip(), split()\n",
    "Python provides many useful string methods:\n",
    "\n",
    "1. upper(): Converts string to uppercase\n",
    "2. lower(): Converts string to lowercase\n",
    "3. strip(): Removes whitespace from the beginning and end\n",
    "4. split(): Splits the string into a list of substrings"
   ]
  },
  {
   "cell_type": "code",
   "execution_count": 33,
   "metadata": {},
   "outputs": [
    {
     "name": "stdout",
     "output_type": "stream",
     "text": [
      "  PYTHON IS AMAZING  \n",
      "  python is amazing  \n",
      "Python is Amazing\n",
      "['Python', 'is', 'Amazing']\n",
      "Python is amazing\n"
     ]
    }
   ],
   "source": [
    "text = \"  Python is Amazing  \"\n",
    "\n",
    "print(text.upper())         # Output: \"  PYTHON IS AMAZING  \"\n",
    "print(text.lower())         # Output: \"  python is amazing  \"\n",
    "print(text.strip())         # Output: \"Python is Amazing\"\n",
    "print(text.split())         # Output: ['Python', 'is', 'Amazing']\n",
    "\n",
    "sentence = text.strip().lower().capitalize()\n",
    "\n",
    "print(sentence)"
   ]
  },
  {
   "cell_type": "markdown",
   "metadata": {},
   "source": [
    "# Creating lists\n",
    "Lists are ordered collections of items, which can be of different types:"
   ]
  },
  {
   "cell_type": "code",
   "execution_count": 20,
   "metadata": {},
   "outputs": [],
   "source": [
    "fruits = [\"apple\", \"banana\", \"cherry\"]\n",
    "mixed_list = [1, \"hello\", 3.14, True]"
   ]
  },
  {
   "cell_type": "markdown",
   "metadata": {},
   "source": [
    "# Accessing list elements (indexing and slicing)\n",
    "List elements can be accessed using indexing, similar to strings:"
   ]
  },
  {
   "cell_type": "code",
   "execution_count": 35,
   "metadata": {},
   "outputs": [
    {
     "name": "stdout",
     "output_type": "stream",
     "text": [
      "apple\n",
      "cherry\n",
      "cherry\n",
      "banana\n",
      "banana\n"
     ]
    }
   ],
   "source": [
    "fruits = [\"apple\", \"banana\", \"cherry\"]\n",
    "\n",
    "print(fruits[0])   # Output: apple\n",
    "print(fruits[-1])  # Output: cherry\n"
   ]
  },
  {
   "cell_type": "markdown",
   "metadata": {},
   "source": [
    "Slicing works the same way as with strings:\n"
   ]
  },
  {
   "cell_type": "code",
   "execution_count": 37,
   "metadata": {},
   "outputs": [
    {
     "name": "stdout",
     "output_type": "stream",
     "text": [
      "['apple']\n"
     ]
    }
   ],
   "source": [
    "print(fruits[:-2])  # Output: ['apple', 'banana']"
   ]
  },
  {
   "cell_type": "markdown",
   "metadata": {},
   "source": [
    "# List methods: append(), extend(), insert(), remove(), pop()\n",
    "Python provides several methods to manipulate lists:\n",
    "\n",
    "1. append(): Adds an item to the end of the list\n",
    "2. extend(): Adds all items from another iterable to the end of the list\n",
    "3. insert(): Inserts an item at a specified position\n",
    "4. remove(): Removes the first occurrence of a specified item\n",
    "5. pop(): Removes and returns the item at a specified position (or the last item if no position is specified)\n",
    "\n",
    "Example:"
   ]
  },
  {
   "cell_type": "code",
   "execution_count": 23,
   "metadata": {},
   "outputs": [
    {
     "name": "stdout",
     "output_type": "stream",
     "text": [
      "['apple', 'banana', 'cherry', 'date']\n",
      "['apple', 'banana', 'cherry', 'date', 'elderberry', 'fig']\n",
      "['apple', 'blueberry', 'banana', 'cherry', 'date', 'elderberry', 'fig']\n",
      "['apple', 'blueberry', 'cherry', 'date', 'elderberry', 'fig']\n",
      "fig\n",
      "['apple', 'blueberry', 'cherry', 'date', 'elderberry']\n"
     ]
    }
   ],
   "source": [
    "fruits = [\"apple\", \"banana\", \"cherry\"]\n",
    "fruits.append(\"date\")\n",
    "\n",
    "print(fruits)  # Output: ['apple', 'banana', 'cherry', 'date']\n",
    "\n",
    "fruits.extend([\"elderberry\", \"fig\"])\n",
    "\n",
    "print(fruits)  # Output: ['apple', 'banana', 'cherry', 'date', 'elderberry', 'fig']\n",
    "\n",
    "fruits.insert(1, \"blueberry\")\n",
    "\n",
    "print(fruits)  # Output: ['apple', 'blueberry', 'banana', 'cherry', 'date', 'elderberry', 'fig']\n",
    "\n",
    "fruits.remove(\"banana\")\n",
    "\n",
    "print(fruits)  # Output: ['apple', 'blueberry', 'cherry', 'date', 'elderberry', 'fig']\n",
    "\n",
    "popped = fruits.pop()\n",
    "\n",
    "print(popped)  # Output: fig\n",
    "print(fruits)  # Output: ['apple', 'blueberry', 'cherry', 'date', 'elderberry']\n"
   ]
  },
  {
   "cell_type": "markdown",
   "metadata": {},
   "source": [
    "# Creating dictionaries\n",
    "Dictionaries are collections of key-value pairs:"
   ]
  },
  {
   "cell_type": "code",
   "execution_count": 38,
   "metadata": {},
   "outputs": [],
   "source": [
    "person = {\"name\": \"Alice\", \"age\": 30, \"city\": \"New York\"}\n"
   ]
  },
  {
   "cell_type": "markdown",
   "metadata": {},
   "source": [
    "# Accessing and modifying dictionary elements\n",
    "Dictionary elements are accessed using their keys:"
   ]
  },
  {
   "cell_type": "code",
   "execution_count": 39,
   "metadata": {},
   "outputs": [
    {
     "name": "stdout",
     "output_type": "stream",
     "text": [
      "Alice\n",
      "{'name': 'Alice', 'age': 31, 'city': 'New York', 'job': 'Engineer'}\n"
     ]
    }
   ],
   "source": [
    "print(person[\"name\"])  # Output: Alice\n",
    "\n",
    "person[\"age\"] = 31  # Modifying a value\n",
    "person[\"job\"] = \"Engineer\"  # Adding a new key-value pair\n",
    "\n",
    "print(person)  # Output: {'name': 'Alice', 'age': 31, 'city': 'New York', 'job': 'Engineer'}"
   ]
  },
  {
   "cell_type": "markdown",
   "metadata": {},
   "source": [
    "# Dictionary methods: keys(), values(), items()\n",
    "Dictionaries have several useful methods:\n",
    "\n",
    "1. keys(): Returns a view of all keys in the dictionary\n",
    "2. values(): Returns a view of all values in the dictionary\n",
    "3. items(): Returns a view of all key-value pairs in the dictionary"
   ]
  },
  {
   "cell_type": "code",
   "execution_count": 26,
   "metadata": {},
   "outputs": [
    {
     "name": "stdout",
     "output_type": "stream",
     "text": [
      "dict_keys(['name', 'age', 'city', 'job'])\n",
      "dict_values(['Alice', 31, 'New York', 'Engineer'])\n",
      "dict_items([('name', 'Alice'), ('age', 31), ('city', 'New York'), ('job', 'Engineer')])\n"
     ]
    }
   ],
   "source": [
    "print(person.keys())    # Output: dict_keys(['name', 'age', 'city', 'job'])\n",
    "print(person.values())  # Output: dict_values(['Alice', 31, 'New York', 'Engineer'])\n",
    "print(person.items())   # Output: dict_items([('name', 'Alice'), ('age', 31), ('city', 'New York'), ('job', 'Engineer')])"
   ]
  },
  {
   "cell_type": "code",
   "execution_count": 42,
   "metadata": {},
   "outputs": [
    {
     "name": "stdout",
     "output_type": "stream",
     "text": [
      "(3, 4, -1)\n",
      "3\n",
      "4\n",
      "-1\n"
     ]
    }
   ],
   "source": [
    "point = (3, 4, -1)\n",
    "\n",
    "print(point)\n",
    "print(point[0])  # Output: 3\n",
    "print(point[1])  # Output: 4\n",
    "print(point[2])  # Output: 4\n"
   ]
  },
  {
   "cell_type": "code",
   "execution_count": null,
   "metadata": {},
   "outputs": [],
   "source": [
    "customers = [\n",
    "\t{\"name\": \"Alice\", \"age\": 30, email_addresses: [ \"alice@example.com\"]},\n",
    "\t{\"name\": \"Bob\", \"age\": 25},\n",
    "\t{\"name\": \"Charlie\", \"age\": 35}\n",
    "]\n"
   ]
  }
 ],
 "metadata": {
  "kernelspec": {
   "display_name": "Python 3",
   "language": "python",
   "name": "python3"
  },
  "language_info": {
   "codemirror_mode": {
    "name": "ipython",
    "version": 3
   },
   "file_extension": ".py",
   "mimetype": "text/x-python",
   "name": "python",
   "nbconvert_exporter": "python",
   "pygments_lexer": "ipython3",
   "version": "3.12.6"
  }
 },
 "nbformat": 4,
 "nbformat_minor": 2
}
