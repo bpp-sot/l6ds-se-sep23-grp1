{
 "cells": [
  {
   "cell_type": "code",
   "execution_count": null,
   "metadata": {},
   "outputs": [],
   "source": [
    "%pip install numpy pandas matplotlib"
   ]
  },
  {
   "cell_type": "markdown",
   "metadata": {},
   "source": [
    "# NumPy: Numerical Computing Library\n",
    "\n",
    "NumPy (Numerical Python) is the fundamental package for scientific computing in Python. It provides support for large, multi-dimensional arrays and matrices, along with a collection of mathematical functions to operate on these arrays efficiently.\n",
    "\n",
    "Key features:\n",
    "- Multi-dimensional array object\n",
    "- Tools for integrating C/C++ and Fortran code\n",
    "- Useful linear algebra, Fourier transform, and random number capabilities\n",
    "\n",
    "To use NumPy, you first need to import it:\n"
   ]
  },
  {
   "cell_type": "code",
   "execution_count": 5,
   "metadata": {},
   "outputs": [],
   "source": [
    "import numpy as np"
   ]
  },
  {
   "cell_type": "markdown",
   "metadata": {},
   "source": [
    "# Pandas: Data Manipulation and Analysis\n",
    "\n",
    "Pandas is built on top of NumPy and provides high-performance, easy-to-use data structures and data analysis tools. It's particularly good at handling structured data.\n",
    "\n",
    "Key features:\n",
    "- DataFrame object for data manipulation with integrated indexing\n",
    "- Tools for reading and writing data between in-memory data structures and different file formats\n",
    "- Data alignment and integrated handling of missing data\n",
    "- Reshaping and pivoting of data sets\n",
    "\n",
    "To use Pandas, import it like this:"
   ]
  },
  {
   "cell_type": "code",
   "execution_count": 6,
   "metadata": {},
   "outputs": [],
   "source": [
    "import pandas as pd"
   ]
  },
  {
   "cell_type": "markdown",
   "metadata": {},
   "source": [
    "# Matplotlib: Data Visualisation\n",
    "\n",
    "Matplotlib is a plotting library that provides a MATLAB-like interface. It produces publication-quality figures in a variety of hardcopy formats and interactive environments.\n",
    "\n",
    "Key features:\n",
    "- Create plots, histograms, power spectra, bar charts, errorcharts, scatterplots, etc., with just a few lines of code\n",
    "- MATLAB-like interface for easy adoption\n",
    "- Support for custom labels and texts\n",
    "\n",
    "To use Matplotlib, typically you'll import its pyplot module:"
   ]
  },
  {
   "cell_type": "code",
   "execution_count": 7,
   "metadata": {},
   "outputs": [],
   "source": [
    "import matplotlib.pyplot as plt"
   ]
  },
  {
   "cell_type": "markdown",
   "metadata": {},
   "source": [
    "# Creating a NumPy array\n",
    "\n",
    "NumPy's main object is the homogeneous multidimensional array. Let's create a simple array and perform some operations:"
   ]
  },
  {
   "cell_type": "code",
   "execution_count": null,
   "metadata": {},
   "outputs": [],
   "source": [
    "import numpy as np\n",
    "\n",
    "# Create a 1D array\n",
    "arr = np.array([1, 2, 3, 4, 5])\n",
    "\n",
    "print(\"Original array:\", arr)\n",
    "\n",
    "# Perform operations\n",
    "print(\"Mean:\", arr.mean())\n",
    "print(\"Standard deviation:\", arr.std())\n",
    "print(\"Array doubled:\", arr * 2)\n",
    "\n",
    "# Create a 2D array\n",
    "matrix = np.array([[1, 2, 3], [4, 5, 6], [7, 8, 9]])\n",
    "\n",
    "print(\"\\n2D Array:\")\n",
    "print(matrix)\n",
    "\n",
    "# Matrix operations\n",
    "print(\"Sum of all elements:\", matrix.sum())\n",
    "print(\"Sum of each column:\", matrix.sum(axis=0))\n",
    "print(\"Sum of each row:\", matrix.sum(axis=1))"
   ]
  },
  {
   "cell_type": "markdown",
   "metadata": {},
   "source": [
    "# Reading a CSV file with Pandas\n",
    "\n",
    "Pandas is excellent for handling structured data, like CSV files. Let's read a CSV file and perform some basic operations:\n"
   ]
  },
  {
   "cell_type": "code",
   "execution_count": null,
   "metadata": {},
   "outputs": [],
   "source": [
    "import pandas as pd\n",
    "\n",
    "# Read CSV file\n",
    "# Note: Replace 'data.csv' with the path to your actual CSV file\n",
    "df = pd.read_csv('titanic.csv')\n",
    "\n",
    "# Display first few rows\n",
    "print(df.head())\n",
    "\n",
    "# Get basic information about the dataset\n",
    "print(df.info())\n",
    "\n",
    "# Compute summary statistics\n",
    "print(df.describe())\n",
    "\n",
    "# Select a single column\n",
    "print(df['survived'])\n",
    "\n",
    "# Filter rows based on a condition\n",
    "print(df[df['survived'] == 1])\n",
    "\n",
    "# Group by a column and compute mean\n",
    "print(df.groupby('sex')['survived'].mean())"
   ]
  },
  {
   "cell_type": "markdown",
   "metadata": {},
   "source": [
    "# Creating a simple plot with Matplotlib\n",
    "\n",
    "Matplotlib is used for creating a wide range of static, animated, and interactive visualisations. Here's a simple example:"
   ]
  },
  {
   "cell_type": "code",
   "execution_count": null,
   "metadata": {},
   "outputs": [],
   "source": [
    "import matplotlib.pyplot as plt\n",
    "import numpy as np\n",
    "\n",
    "# Generate some data\n",
    "x = np.linspace(0, 10, 100)\n",
    "y = np.sin(x)\n",
    "\n",
    "# Create a line plot\n",
    "plt.figure(figsize=(10, 6))\n",
    "plt.plot(x, y, label='sin(x)')\n",
    "plt.title('Sine Wave')\n",
    "plt.xlabel('x')\n",
    "plt.ylabel('sin(x)')\n",
    "plt.legend()\n",
    "plt.grid(True)\n",
    "\n",
    "# Show the plot\n",
    "plt.show()"
   ]
  },
  {
   "cell_type": "markdown",
   "metadata": {},
   "source": [
    "# Analyse a dataset of student scores"
   ]
  },
  {
   "cell_type": "code",
   "execution_count": null,
   "metadata": {},
   "outputs": [],
   "source": [
    "import numpy as np\n",
    "import pandas as pd\n",
    "import matplotlib.pyplot as plt\n",
    "\n",
    "# Create a sample dataset\n",
    "data = {\n",
    "    'Student': ['Alice', 'Bob', 'Charlie', 'David', 'Eve'],\n",
    "    'Math': [85, 76, 90, 82, 95],\n",
    "    'Science': [92, 88, 75, 79, 86],\n",
    "    'Literature': [78, 92, 87, 81, 89]\n",
    "}\n",
    "\n",
    "# Create a DataFrame\n",
    "df = pd.DataFrame(data)\n",
    "\n",
    "# Set 'Student' as the index\n",
    "df.set_index('Student', inplace=True)\n",
    "\n",
    "print(\"Dataset:\")\n",
    "print(df)\n",
    "\n",
    "# Compute average scores\n",
    "average_scores = df.mean()\n",
    "\n",
    "print(\"\\nAverage Scores:\")\n",
    "print(average_scores)\n",
    "\n",
    "# Find the highest score in each subject\n",
    "highest_scores = df.max()\n",
    "\n",
    "print(\"\\nHighest Scores:\")\n",
    "print(highest_scores)\n",
    "\n",
    "# Visualise the data\n",
    "df.plot(kind='bar', figsize=(10, 6))\n",
    "\n",
    "plt.title('Student Scores')\n",
    "plt.xlabel('Student')\n",
    "plt.ylabel('Score')\n",
    "plt.legend(title='Subject')\n",
    "plt.tight_layout()\n",
    "plt.show()\n",
    "\n",
    "# Compute correlation between subjects\n",
    "correlation = df.corr()\n",
    "\n",
    "print(\"\\nCorrelation between subjects:\")\n",
    "print(correlation)\n",
    "\n",
    "# Visualise correlation\n",
    "plt.figure(figsize=(8, 6))\n",
    "plt.imshow(correlation, cmap='coolwarm')\n",
    "plt.colorbar()\n",
    "plt.xticks(range(len(correlation.columns)), correlation.columns)\n",
    "plt.yticks(range(len(correlation.columns)), correlation.columns)\n",
    "plt.title('Correlation between Subjects')\n",
    "plt.tight_layout()\n",
    "plt.show()"
   ]
  }
 ],
 "metadata": {
  "kernelspec": {
   "display_name": "Python 3",
   "language": "python",
   "name": "python3"
  },
  "language_info": {
   "codemirror_mode": {
    "name": "ipython",
    "version": 3
   },
   "file_extension": ".py",
   "mimetype": "text/x-python",
   "name": "python",
   "nbconvert_exporter": "python",
   "pygments_lexer": "ipython3",
   "version": "3.12.6"
  }
 },
 "nbformat": 4,
 "nbformat_minor": 2
}
