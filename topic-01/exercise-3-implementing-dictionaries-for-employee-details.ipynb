{
 "cells": [
  {
   "cell_type": "markdown",
   "metadata": {},
   "source": [
    "# Task\n",
    "\n",
    "Create a dictionary to store employee details including name, position, and salary. Add a new employee, update an existing employee's salary, and print out all employee information.\n",
    "\n"
   ]
  },
  {
   "cell_type": "markdown",
   "metadata": {},
   "source": [
    "## 1. Create a dictionary with employee details"
   ]
  },
  {
   "cell_type": "code",
   "execution_count": null,
   "metadata": {},
   "outputs": [],
   "source": []
  },
  {
   "cell_type": "markdown",
   "metadata": {},
   "source": [
    "## 2. Add a new employee"
   ]
  },
  {
   "cell_type": "code",
   "execution_count": null,
   "metadata": {},
   "outputs": [],
   "source": []
  },
  {
   "cell_type": "markdown",
   "metadata": {},
   "source": [
    "## 3. Update an existing employee's salary"
   ]
  },
  {
   "cell_type": "code",
   "execution_count": null,
   "metadata": {},
   "outputs": [],
   "source": []
  },
  {
   "cell_type": "markdown",
   "metadata": {},
   "source": [
    "## 4. Print out all employee information"
   ]
  },
  {
   "cell_type": "code",
   "execution_count": null,
   "metadata": {},
   "outputs": [],
   "source": []
  },
  {
   "cell_type": "markdown",
   "metadata": {},
   "source": [
    "## Expected output\n",
    "\n",
    "```\n",
    "Employee Details:\n",
    "Employee ID: E001\n",
    "  Name: Alice Smith\n",
    "  Position: Software Developer\n",
    "  Salary: $75,000\n",
    "\n",
    "Employee ID: E002\n",
    "  Name: Bob Johnson\n",
    "  Position: Project Manager\n",
    "  Salary: $90,000\n",
    "\n",
    "Employee ID: E003\n",
    "  Name: Charlie Brown\n",
    "  Position: Data Analyst\n",
    "  Salary: $70,000\n",
    "\n",
    "Employee ID: E004\n",
    "  Name: Diana Prince\n",
    "  Position: UX Designer\n",
    "  Salary: $72,000\n",
    "  ```\n"
   ]
  },
  {
   "cell_type": "markdown",
   "metadata": {},
   "source": [
    "# Additional Challenge\n",
    "\n",
    "Implement a function to give all employees a raise based on a percentage. Then use this function to give everyone a 5% raise and print the updated employee information."
   ]
  },
  {
   "cell_type": "code",
   "execution_count": null,
   "metadata": {},
   "outputs": [],
   "source": []
  }
 ],
 "metadata": {
  "kernelspec": {
   "display_name": "Python 3",
   "language": "python",
   "name": "python3"
  },
  "language_info": {
   "name": "python",
   "version": "3.12.6"
  }
 },
 "nbformat": 4,
 "nbformat_minor": 2
}
