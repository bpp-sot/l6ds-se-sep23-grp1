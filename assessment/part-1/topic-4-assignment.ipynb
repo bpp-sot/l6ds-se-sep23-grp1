{
 "cells": [
  {
   "cell_type": "markdown",
   "metadata": {},
   "source": [
    "# Topic 4 - Data Visualisation in Python\n",
    "\n",
    "Answer the following questions when you have completed the 'Apply Activities' exercises for topic 4 (300-word limit overall)."
   ]
  },
  {
   "cell_type": "markdown",
   "metadata": {},
   "source": [
    "## Question 1\n",
    "\n",
    "How can visualising data help in your work? Show and describe a useful plot you have created using Matplotlib."
   ]
  },
  {
   "cell_type": "markdown",
   "metadata": {},
   "source": []
  },
  {
   "cell_type": "markdown",
   "metadata": {},
   "source": [
    "## Question 2\n",
    "\n",
    "What makes Seaborn different from Matplotlib? Show and compare a plot created using both Seaborn and Matplotlib."
   ]
  },
  {
   "cell_type": "markdown",
   "metadata": {},
   "source": []
  },
  {
   "cell_type": "markdown",
   "metadata": {},
   "source": [
    "## Question 3\n",
    "\n",
    "Create an interactive plot using Plotly based on data relevant to your organisation. How does the interactivity enhance the usefulness of the visualisation of your work?"
   ]
  },
  {
   "cell_type": "markdown",
   "metadata": {},
   "source": []
  }
 ],
 "metadata": {
  "language_info": {
   "name": "python"
  }
 },
 "nbformat": 4,
 "nbformat_minor": 2
}
