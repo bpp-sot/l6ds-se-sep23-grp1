{
 "cells": [
  {
   "cell_type": "markdown",
   "metadata": {},
   "source": [
    "# Topic 2 - Python Essentials\n",
    "\n",
    "Answer the following questions when you have completed the 'Apply Activities' exercises for topic 2 (300-word limit overall)."
   ]
  },
  {
   "cell_type": "markdown",
   "metadata": {},
   "source": [
    "## Question 1\n",
    "\n",
    "Can you describe any simple instance within your organisation where the use of `if-else` statements could improve the efficiency of a process?"
   ]
  },
  {
   "cell_type": "markdown",
   "metadata": {},
   "source": []
  },
  {
   "cell_type": "markdown",
   "metadata": {},
   "source": [
    "## Question 2\n",
    "\n",
    "Briefly discuss how you have used or could use lists and dictionaries in managing \n",
    "data within your organisation. What are the benefits and drawbacks of each in your \n",
    "specific context?"
   ]
  },
  {
   "cell_type": "markdown",
   "metadata": {},
   "source": []
  },
  {
   "cell_type": "markdown",
   "metadata": {},
   "source": [
    "## Question 3\n",
    "\n",
    "Can you think of a real-world entity in your organisation that could benefit from\n",
    "being modelled as a class in Python? Briefly explain the attributes and methods that this class would have."
   ]
  },
  {
   "cell_type": "markdown",
   "metadata": {},
   "source": []
  }
 ],
 "metadata": {
  "language_info": {
   "name": "python"
  }
 },
 "nbformat": 4,
 "nbformat_minor": 2
}
