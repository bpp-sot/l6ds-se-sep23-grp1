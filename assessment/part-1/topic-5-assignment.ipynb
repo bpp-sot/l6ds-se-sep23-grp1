{
 "cells": [
  {
   "cell_type": "markdown",
   "metadata": {},
   "source": [
    "# Topic 5 - Scikit-Learn\n",
    "\n",
    "Answer the following questions when you have completed the 'Apply Activities' exercises for topic 5 (300-word limit overall)."
   ]
  },
  {
   "cell_type": "markdown",
   "metadata": {},
   "source": [
    "## Question 1\n",
    "\n",
    "What role does Scikit-Learn play in machine learning? Why is it useful for your tasks at work?"
   ]
  },
  {
   "cell_type": "markdown",
   "metadata": {},
   "source": []
  },
  {
   "cell_type": "markdown",
   "metadata": {},
   "source": [
    "## Question 2\n",
    "\n",
    "How did you prepare your data for machine learning models? Why did you choose those pre-processing steps?  "
   ]
  },
  {
   "cell_type": "markdown",
   "metadata": {},
   "source": []
  },
  {
   "cell_type": "markdown",
   "metadata": {},
   "source": [
    "## Question 3\n",
    "\n",
    "Describe the methods you used to check how well your machine learning model performed  "
   ]
  },
  {
   "cell_type": "markdown",
   "metadata": {},
   "source": []
  }
 ],
 "metadata": {
  "language_info": {
   "name": "python"
  }
 },
 "nbformat": 4,
 "nbformat_minor": 2
}
