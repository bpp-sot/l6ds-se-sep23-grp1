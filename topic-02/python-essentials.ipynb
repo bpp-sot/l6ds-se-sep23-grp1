{
 "cells": [
  {
   "cell_type": "markdown",
   "metadata": {},
   "source": [
    "# Python Essentials\n",
    "\n",
    "## Lists\n",
    "\n",
    "Lists are ordered, mutable sequences."
   ]
  },
  {
   "cell_type": "code",
   "execution_count": 11,
   "metadata": {},
   "outputs": [
    {
     "name": "stdout",
     "output_type": "stream",
     "text": [
      "['two', 3.1, (4, 5)]\n",
      "False\n"
     ]
    }
   ],
   "source": [
    "# This is a list\n",
    "empty_list = []\n",
    "number_list = [1, 2, 3, 4, 5]\n",
    "word_list = [\"apple\", \"orange\", \"melon\"]\n",
    "\n",
    "mixed_list = [1, \"two\", 3.0, (4, 5)]\n",
    "\n",
    "mixed_list.append(\"fortytwo\")\n",
    "\n",
    "print(mixed_list[1:4])\n",
    "\n",
    "print(3 in mixed_list)"
   ]
  },
  {
   "cell_type": "markdown",
   "metadata": {},
   "source": [
    "## Tuples\n",
    "\n",
    "Ordered, immutable"
   ]
  },
  {
   "cell_type": "code",
   "execution_count": 14,
   "metadata": {},
   "outputs": [
    {
     "name": "stdout",
     "output_type": "stream",
     "text": [
      "('two', 3.0)\n"
     ]
    }
   ],
   "source": [
    "empty_tuple = ()\n",
    "single_item_tuple = (1,)\n",
    "number_tuples = (1, 2, 3, 4, 5)\n",
    "mixed_tuple = (1, \"two\", 3.0, [4, 5])\n",
    "\n",
    "print(mixed_tuple[1:3])"
   ]
  },
  {
   "cell_type": "markdown",
   "metadata": {},
   "source": [
    "## Set\n",
    "\n",
    "Unordere collection of unique elements"
   ]
  },
  {
   "cell_type": "code",
   "execution_count": 16,
   "metadata": {},
   "outputs": [
    {
     "name": "stdout",
     "output_type": "stream",
     "text": [
      "{1, 2, 3}\n"
     ]
    }
   ],
   "source": [
    "empty_set = set()\n",
    "number_set = {1, 2, 3, 4, 5}\n",
    "\n",
    "my_set = set()\n",
    "my_set.add(1)\n",
    "my_set.add(1)\n",
    "my_set.add(1)\n",
    "my_set.add(1)\n",
    "my_set.add(2)\n",
    "my_set.add(2)\n",
    "my_set.add(2)\n",
    "my_set.add(3)\n",
    "my_set.add(3)\n",
    "my_set.add(3)\n",
    "\n",
    "print(my_set)"
   ]
  },
  {
   "cell_type": "code",
   "execution_count": 25,
   "metadata": {},
   "outputs": [
    {
     "name": "stdout",
     "output_type": "stream",
     "text": [
      "{'name': 'Alice', 'age': 42}\n",
      "Assigning role...\n",
      "{'name': 'Alice', 'age': 42, 'role': 'Data Engineer'}\n"
     ]
    }
   ],
   "source": [
    "# Dictionary\n",
    "\n",
    "my_dictionary = { \"name\": \"Alice\", \"age\": 42, }\n",
    "\n",
    "print(my_dictionary)\n",
    "\n",
    "if \"role\" in my_dictionary:\n",
    "\tprint(my_dictionary[\"role\"])\n",
    "else:\n",
    "\tprint(\"Assigning role...\")\n",
    "\tmy_dictionary[\"role\"] = \"Data Engineer\"\n",
    "\n",
    "print(my_dictionary)"
   ]
  },
  {
   "cell_type": "code",
   "execution_count": 33,
   "metadata": {},
   "outputs": [],
   "source": [
    "def assign_role(person: dict, new_role: str) -> str:\n",
    "\t\"\"\"\n",
    "\tAssign a new `new_role` to a person if they don't have one already.\n",
    "\n",
    "\tParameters:\n",
    "    person (dict): A dictionary representing a person. This dictionary\n",
    "                   may or may not already have a \"role\" key.\n",
    "    new_role (str): A string representing the new role to be assigned.\n",
    "\n",
    "\tReturns:\n",
    "\tstr: The new or existing role.\n",
    "\t\"\"\"\n",
    "\tif \"role\" in person:\n",
    "\t\tpass\n",
    "\telse:\n",
    "\t\tperson[\"role\"] = new_role\n",
    "\n",
    "\treturn person[\"role\"]"
   ]
  },
  {
   "cell_type": "code",
   "execution_count": 34,
   "metadata": {},
   "outputs": [
    {
     "name": "stdout",
     "output_type": "stream",
     "text": [
      "Alice is a Manager\n",
      "Bob is a Data Engineer\n",
      "Charlie is a Data Engineer\n"
     ]
    }
   ],
   "source": [
    "employees = { \"data_engineers\": [\n",
    "\t{\"name\": \"Alice\", \"age\": 42},\n",
    "\t{\"name\": \"Bob\", \"age\": 37},\n",
    "\t{\"name\": \"Charlie\", \"age\": 53}\n",
    "]}\n",
    "\n",
    "assign_role(employees[\"data_engineers\"][0], \"Manager\")\n",
    "\n",
    "for person in employees[\"data_engineers\"]:\n",
    "\tassign_role(person, \"Data Engineer\")\n",
    "\tprint(f\"{person['name']} is a {person['role']}\")\n"
   ]
  },
  {
   "cell_type": "markdown",
   "metadata": {},
   "source": [
    "## Classes\n",
    "\n"
   ]
  },
  {
   "cell_type": "code",
   "execution_count": 57,
   "metadata": {},
   "outputs": [],
   "source": [
    "class Employee:\n",
    "\tdef __init__(self, name, age, role):\n",
    "\t\tself.name = name\n",
    "\t\tself.age = age\n",
    "\t\tself.role = role\n",
    "\n",
    "\tdef greeting(self):\n",
    "\t\treturn f\"Hello. My name is {self.name} and I am a {self.role}.\""
   ]
  },
  {
   "cell_type": "code",
   "execution_count": 60,
   "metadata": {},
   "outputs": [
    {
     "name": "stdout",
     "output_type": "stream",
     "text": [
      "Alice\n",
      "Hello. My name is Alice and I am a Manager.\n"
     ]
    }
   ],
   "source": [
    "alice = Employee(\"Alice\", 42, \"Manager\")\n",
    "\n",
    "print(alice.name)\n",
    "print(alice.greeting())"
   ]
  },
  {
   "cell_type": "code",
   "execution_count": 67,
   "metadata": {},
   "outputs": [
    {
     "name": "stdout",
     "output_type": "stream",
     "text": [
      "Hello, Alice!\n",
      "Hello, Alice! You are 42.\n",
      "Hello, Alice\n"
     ]
    }
   ],
   "source": [
    "\n",
    "\n",
    "name = \"Alice\"\n",
    "\n",
    "print(\"Hello, \" + name + \"!\")\n",
    "print(\"Hello, {}! You are {}.\".format(name, 42))\n",
    "print(f\"Hello, {name}\")\n"
   ]
  }
 ],
 "metadata": {
  "kernelspec": {
   "display_name": "Python 3",
   "language": "python",
   "name": "python3"
  },
  "language_info": {
   "codemirror_mode": {
    "name": "ipython",
    "version": 3
   },
   "file_extension": ".py",
   "mimetype": "text/x-python",
   "name": "python",
   "nbconvert_exporter": "python",
   "pygments_lexer": "ipython3",
   "version": "3.12.6"
  }
 },
 "nbformat": 4,
 "nbformat_minor": 2
}
